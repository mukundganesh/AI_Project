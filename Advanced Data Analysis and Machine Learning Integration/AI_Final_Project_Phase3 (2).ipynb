{
  "nbformat": 4,
  "nbformat_minor": 0,
  "metadata": {
    "colab": {
      "provenance": [],
      "collapsed_sections": [
        "HEXdMhVm5C6-"
      ]
    },
    "kernelspec": {
      "name": "python3",
      "display_name": "Python 3"
    },
    "language_info": {
      "name": "python"
    }
  },
  "cells": [
    {
      "cell_type": "markdown",
      "source": [
        "#  AI FINAL PROJECT PHASE 3\n",
        "\n",
        "\n"
      ],
      "metadata": {
        "id": "HEXdMhVm5C6-"
      }
    },
    {
      "cell_type": "markdown",
      "source": [
        "## Data Pre-Processing ##\n",
        "\n",
        "\n",
        "\n"
      ],
      "metadata": {
        "id": "M0LAagu65HF-"
      }
    },
    {
      "cell_type": "markdown",
      "source": [
        "### Importing the Necessary Libraries ###"
      ],
      "metadata": {
        "id": "nsxtCynf5kAX"
      }
    },
    {
      "cell_type": "code",
      "source": [
        "import pandas as pd\n",
        "from sklearn.model_selection import train_test_split\n",
        "from sklearn.preprocessing import StandardScaler"
      ],
      "metadata": {
        "id": "1eJN84l84_9G"
      },
      "execution_count": null,
      "outputs": []
    },
    {
      "cell_type": "markdown",
      "source": [
        "### Mounting Google Drive ###"
      ],
      "metadata": {
        "id": "cLkrkC4D635e"
      }
    },
    {
      "cell_type": "code",
      "source": [
        "from google.colab import drive\n",
        "drive.mount('/content/drive')"
      ],
      "metadata": {
        "colab": {
          "base_uri": "https://localhost:8080/"
        },
        "id": "thiWqSMB6_j7",
        "outputId": "a6aea9c5-439a-40fd-bc99-561ff2178fe4"
      },
      "execution_count": null,
      "outputs": [
        {
          "output_type": "stream",
          "name": "stdout",
          "text": [
            "Drive already mounted at /content/drive; to attempt to forcibly remount, call drive.mount(\"/content/drive\", force_remount=True).\n"
          ]
        }
      ]
    },
    {
      "cell_type": "markdown",
      "source": [
        "### Reading Data from CSV ###"
      ],
      "metadata": {
        "id": "tfqe17mq7UYZ"
      }
    },
    {
      "cell_type": "code",
      "source": [
        "data = pd.read_csv('/content/NATOPS_sid20-C_TRAIN_su.csv')"
      ],
      "metadata": {
        "id": "zhAJYAZW7arG"
      },
      "execution_count": null,
      "outputs": []
    },
    {
      "cell_type": "code",
      "source": [
        "# Checking if the Data is successfully Read\n",
        "data.head()\n"
      ],
      "metadata": {
        "colab": {
          "base_uri": "https://localhost:8080/",
          "height": 255
        },
        "id": "cV5kxOMf7blr",
        "outputId": "fccb31de-1851-4f70-c7df-0811645a2ee8"
      },
      "execution_count": null,
      "outputs": [
        {
          "output_type": "execute_result",
          "data": {
            "text/plain": [
              "   isTest      fea2      fea3  fea4      fea5      fea6      fea7      fea8  \\\n",
              "0       0  0.117647  0.039216   0.0  0.137255  0.019608  0.098039  0.294118   \n",
              "1       0  0.117647  0.039216   0.0  0.137255  0.019608  0.098039  0.294118   \n",
              "2       0  0.117647  0.039216   0.0  0.137255  0.019608  0.098039  0.294118   \n",
              "3       0  0.117647  0.039216   0.0  0.137255  0.019608  0.098039  0.294118   \n",
              "4       0  0.117647  0.039216   0.0  0.137255  0.019608  0.098039  0.294118   \n",
              "\n",
              "   fea9  fea10  ...  fea14  fea15  fea16  fea17     fea18  fea19  fea20  \\\n",
              "0   0.0    0.0  ...    0.0    0.0    0.0    0.0  0.137255    0.0    0.0   \n",
              "1   0.0    0.0  ...    0.0    0.0    0.0    0.0  0.137255    0.0    0.0   \n",
              "2   0.0    0.0  ...    0.0    0.0    0.0    0.0  0.137255    0.0    0.0   \n",
              "3   0.0    0.0  ...    0.0    0.0    0.0    0.0  0.137255    0.0    0.0   \n",
              "4   0.0    0.0  ...    0.0    0.0    0.0    0.0  0.137255    0.0    0.0   \n",
              "\n",
              "   fea21  sid  class  \n",
              "0    0.0    1      3  \n",
              "1    0.0    1      3  \n",
              "2    0.0    1      3  \n",
              "3    0.0    1      3  \n",
              "4    0.0    1      3  \n",
              "\n",
              "[5 rows x 23 columns]"
            ],
            "text/html": [
              "\n",
              "  <div id=\"df-70118d2f-4ffa-4241-af44-da1badbd22af\" class=\"colab-df-container\">\n",
              "    <div>\n",
              "<style scoped>\n",
              "    .dataframe tbody tr th:only-of-type {\n",
              "        vertical-align: middle;\n",
              "    }\n",
              "\n",
              "    .dataframe tbody tr th {\n",
              "        vertical-align: top;\n",
              "    }\n",
              "\n",
              "    .dataframe thead th {\n",
              "        text-align: right;\n",
              "    }\n",
              "</style>\n",
              "<table border=\"1\" class=\"dataframe\">\n",
              "  <thead>\n",
              "    <tr style=\"text-align: right;\">\n",
              "      <th></th>\n",
              "      <th>isTest</th>\n",
              "      <th>fea2</th>\n",
              "      <th>fea3</th>\n",
              "      <th>fea4</th>\n",
              "      <th>fea5</th>\n",
              "      <th>fea6</th>\n",
              "      <th>fea7</th>\n",
              "      <th>fea8</th>\n",
              "      <th>fea9</th>\n",
              "      <th>fea10</th>\n",
              "      <th>...</th>\n",
              "      <th>fea14</th>\n",
              "      <th>fea15</th>\n",
              "      <th>fea16</th>\n",
              "      <th>fea17</th>\n",
              "      <th>fea18</th>\n",
              "      <th>fea19</th>\n",
              "      <th>fea20</th>\n",
              "      <th>fea21</th>\n",
              "      <th>sid</th>\n",
              "      <th>class</th>\n",
              "    </tr>\n",
              "  </thead>\n",
              "  <tbody>\n",
              "    <tr>\n",
              "      <th>0</th>\n",
              "      <td>0</td>\n",
              "      <td>0.117647</td>\n",
              "      <td>0.039216</td>\n",
              "      <td>0.0</td>\n",
              "      <td>0.137255</td>\n",
              "      <td>0.019608</td>\n",
              "      <td>0.098039</td>\n",
              "      <td>0.294118</td>\n",
              "      <td>0.0</td>\n",
              "      <td>0.0</td>\n",
              "      <td>...</td>\n",
              "      <td>0.0</td>\n",
              "      <td>0.0</td>\n",
              "      <td>0.0</td>\n",
              "      <td>0.0</td>\n",
              "      <td>0.137255</td>\n",
              "      <td>0.0</td>\n",
              "      <td>0.0</td>\n",
              "      <td>0.0</td>\n",
              "      <td>1</td>\n",
              "      <td>3</td>\n",
              "    </tr>\n",
              "    <tr>\n",
              "      <th>1</th>\n",
              "      <td>0</td>\n",
              "      <td>0.117647</td>\n",
              "      <td>0.039216</td>\n",
              "      <td>0.0</td>\n",
              "      <td>0.137255</td>\n",
              "      <td>0.019608</td>\n",
              "      <td>0.098039</td>\n",
              "      <td>0.294118</td>\n",
              "      <td>0.0</td>\n",
              "      <td>0.0</td>\n",
              "      <td>...</td>\n",
              "      <td>0.0</td>\n",
              "      <td>0.0</td>\n",
              "      <td>0.0</td>\n",
              "      <td>0.0</td>\n",
              "      <td>0.137255</td>\n",
              "      <td>0.0</td>\n",
              "      <td>0.0</td>\n",
              "      <td>0.0</td>\n",
              "      <td>1</td>\n",
              "      <td>3</td>\n",
              "    </tr>\n",
              "    <tr>\n",
              "      <th>2</th>\n",
              "      <td>0</td>\n",
              "      <td>0.117647</td>\n",
              "      <td>0.039216</td>\n",
              "      <td>0.0</td>\n",
              "      <td>0.137255</td>\n",
              "      <td>0.019608</td>\n",
              "      <td>0.098039</td>\n",
              "      <td>0.294118</td>\n",
              "      <td>0.0</td>\n",
              "      <td>0.0</td>\n",
              "      <td>...</td>\n",
              "      <td>0.0</td>\n",
              "      <td>0.0</td>\n",
              "      <td>0.0</td>\n",
              "      <td>0.0</td>\n",
              "      <td>0.137255</td>\n",
              "      <td>0.0</td>\n",
              "      <td>0.0</td>\n",
              "      <td>0.0</td>\n",
              "      <td>1</td>\n",
              "      <td>3</td>\n",
              "    </tr>\n",
              "    <tr>\n",
              "      <th>3</th>\n",
              "      <td>0</td>\n",
              "      <td>0.117647</td>\n",
              "      <td>0.039216</td>\n",
              "      <td>0.0</td>\n",
              "      <td>0.137255</td>\n",
              "      <td>0.019608</td>\n",
              "      <td>0.098039</td>\n",
              "      <td>0.294118</td>\n",
              "      <td>0.0</td>\n",
              "      <td>0.0</td>\n",
              "      <td>...</td>\n",
              "      <td>0.0</td>\n",
              "      <td>0.0</td>\n",
              "      <td>0.0</td>\n",
              "      <td>0.0</td>\n",
              "      <td>0.137255</td>\n",
              "      <td>0.0</td>\n",
              "      <td>0.0</td>\n",
              "      <td>0.0</td>\n",
              "      <td>1</td>\n",
              "      <td>3</td>\n",
              "    </tr>\n",
              "    <tr>\n",
              "      <th>4</th>\n",
              "      <td>0</td>\n",
              "      <td>0.117647</td>\n",
              "      <td>0.039216</td>\n",
              "      <td>0.0</td>\n",
              "      <td>0.137255</td>\n",
              "      <td>0.019608</td>\n",
              "      <td>0.098039</td>\n",
              "      <td>0.294118</td>\n",
              "      <td>0.0</td>\n",
              "      <td>0.0</td>\n",
              "      <td>...</td>\n",
              "      <td>0.0</td>\n",
              "      <td>0.0</td>\n",
              "      <td>0.0</td>\n",
              "      <td>0.0</td>\n",
              "      <td>0.137255</td>\n",
              "      <td>0.0</td>\n",
              "      <td>0.0</td>\n",
              "      <td>0.0</td>\n",
              "      <td>1</td>\n",
              "      <td>3</td>\n",
              "    </tr>\n",
              "  </tbody>\n",
              "</table>\n",
              "<p>5 rows × 23 columns</p>\n",
              "</div>\n",
              "    <div class=\"colab-df-buttons\">\n",
              "\n",
              "  <div class=\"colab-df-container\">\n",
              "    <button class=\"colab-df-convert\" onclick=\"convertToInteractive('df-70118d2f-4ffa-4241-af44-da1badbd22af')\"\n",
              "            title=\"Convert this dataframe to an interactive table.\"\n",
              "            style=\"display:none;\">\n",
              "\n",
              "  <svg xmlns=\"http://www.w3.org/2000/svg\" height=\"24px\" viewBox=\"0 -960 960 960\">\n",
              "    <path d=\"M120-120v-720h720v720H120Zm60-500h600v-160H180v160Zm220 220h160v-160H400v160Zm0 220h160v-160H400v160ZM180-400h160v-160H180v160Zm440 0h160v-160H620v160ZM180-180h160v-160H180v160Zm440 0h160v-160H620v160Z\"/>\n",
              "  </svg>\n",
              "    </button>\n",
              "\n",
              "  <style>\n",
              "    .colab-df-container {\n",
              "      display:flex;\n",
              "      gap: 12px;\n",
              "    }\n",
              "\n",
              "    .colab-df-convert {\n",
              "      background-color: #E8F0FE;\n",
              "      border: none;\n",
              "      border-radius: 50%;\n",
              "      cursor: pointer;\n",
              "      display: none;\n",
              "      fill: #1967D2;\n",
              "      height: 32px;\n",
              "      padding: 0 0 0 0;\n",
              "      width: 32px;\n",
              "    }\n",
              "\n",
              "    .colab-df-convert:hover {\n",
              "      background-color: #E2EBFA;\n",
              "      box-shadow: 0px 1px 2px rgba(60, 64, 67, 0.3), 0px 1px 3px 1px rgba(60, 64, 67, 0.15);\n",
              "      fill: #174EA6;\n",
              "    }\n",
              "\n",
              "    .colab-df-buttons div {\n",
              "      margin-bottom: 4px;\n",
              "    }\n",
              "\n",
              "    [theme=dark] .colab-df-convert {\n",
              "      background-color: #3B4455;\n",
              "      fill: #D2E3FC;\n",
              "    }\n",
              "\n",
              "    [theme=dark] .colab-df-convert:hover {\n",
              "      background-color: #434B5C;\n",
              "      box-shadow: 0px 1px 3px 1px rgba(0, 0, 0, 0.15);\n",
              "      filter: drop-shadow(0px 1px 2px rgba(0, 0, 0, 0.3));\n",
              "      fill: #FFFFFF;\n",
              "    }\n",
              "  </style>\n",
              "\n",
              "    <script>\n",
              "      const buttonEl =\n",
              "        document.querySelector('#df-70118d2f-4ffa-4241-af44-da1badbd22af button.colab-df-convert');\n",
              "      buttonEl.style.display =\n",
              "        google.colab.kernel.accessAllowed ? 'block' : 'none';\n",
              "\n",
              "      async function convertToInteractive(key) {\n",
              "        const element = document.querySelector('#df-70118d2f-4ffa-4241-af44-da1badbd22af');\n",
              "        const dataTable =\n",
              "          await google.colab.kernel.invokeFunction('convertToInteractive',\n",
              "                                                    [key], {});\n",
              "        if (!dataTable) return;\n",
              "\n",
              "        const docLinkHtml = 'Like what you see? Visit the ' +\n",
              "          '<a target=\"_blank\" href=https://colab.research.google.com/notebooks/data_table.ipynb>data table notebook</a>'\n",
              "          + ' to learn more about interactive tables.';\n",
              "        element.innerHTML = '';\n",
              "        dataTable['output_type'] = 'display_data';\n",
              "        await google.colab.output.renderOutput(dataTable, element);\n",
              "        const docLink = document.createElement('div');\n",
              "        docLink.innerHTML = docLinkHtml;\n",
              "        element.appendChild(docLink);\n",
              "      }\n",
              "    </script>\n",
              "  </div>\n",
              "\n",
              "\n",
              "<div id=\"df-e323a7e6-03bd-45e0-84a6-1b95dc27f030\">\n",
              "  <button class=\"colab-df-quickchart\" onclick=\"quickchart('df-e323a7e6-03bd-45e0-84a6-1b95dc27f030')\"\n",
              "            title=\"Suggest charts\"\n",
              "            style=\"display:none;\">\n",
              "\n",
              "<svg xmlns=\"http://www.w3.org/2000/svg\" height=\"24px\"viewBox=\"0 0 24 24\"\n",
              "     width=\"24px\">\n",
              "    <g>\n",
              "        <path d=\"M19 3H5c-1.1 0-2 .9-2 2v14c0 1.1.9 2 2 2h14c1.1 0 2-.9 2-2V5c0-1.1-.9-2-2-2zM9 17H7v-7h2v7zm4 0h-2V7h2v10zm4 0h-2v-4h2v4z\"/>\n",
              "    </g>\n",
              "</svg>\n",
              "  </button>\n",
              "\n",
              "<style>\n",
              "  .colab-df-quickchart {\n",
              "      --bg-color: #E8F0FE;\n",
              "      --fill-color: #1967D2;\n",
              "      --hover-bg-color: #E2EBFA;\n",
              "      --hover-fill-color: #174EA6;\n",
              "      --disabled-fill-color: #AAA;\n",
              "      --disabled-bg-color: #DDD;\n",
              "  }\n",
              "\n",
              "  [theme=dark] .colab-df-quickchart {\n",
              "      --bg-color: #3B4455;\n",
              "      --fill-color: #D2E3FC;\n",
              "      --hover-bg-color: #434B5C;\n",
              "      --hover-fill-color: #FFFFFF;\n",
              "      --disabled-bg-color: #3B4455;\n",
              "      --disabled-fill-color: #666;\n",
              "  }\n",
              "\n",
              "  .colab-df-quickchart {\n",
              "    background-color: var(--bg-color);\n",
              "    border: none;\n",
              "    border-radius: 50%;\n",
              "    cursor: pointer;\n",
              "    display: none;\n",
              "    fill: var(--fill-color);\n",
              "    height: 32px;\n",
              "    padding: 0;\n",
              "    width: 32px;\n",
              "  }\n",
              "\n",
              "  .colab-df-quickchart:hover {\n",
              "    background-color: var(--hover-bg-color);\n",
              "    box-shadow: 0 1px 2px rgba(60, 64, 67, 0.3), 0 1px 3px 1px rgba(60, 64, 67, 0.15);\n",
              "    fill: var(--button-hover-fill-color);\n",
              "  }\n",
              "\n",
              "  .colab-df-quickchart-complete:disabled,\n",
              "  .colab-df-quickchart-complete:disabled:hover {\n",
              "    background-color: var(--disabled-bg-color);\n",
              "    fill: var(--disabled-fill-color);\n",
              "    box-shadow: none;\n",
              "  }\n",
              "\n",
              "  .colab-df-spinner {\n",
              "    border: 2px solid var(--fill-color);\n",
              "    border-color: transparent;\n",
              "    border-bottom-color: var(--fill-color);\n",
              "    animation:\n",
              "      spin 1s steps(1) infinite;\n",
              "  }\n",
              "\n",
              "  @keyframes spin {\n",
              "    0% {\n",
              "      border-color: transparent;\n",
              "      border-bottom-color: var(--fill-color);\n",
              "      border-left-color: var(--fill-color);\n",
              "    }\n",
              "    20% {\n",
              "      border-color: transparent;\n",
              "      border-left-color: var(--fill-color);\n",
              "      border-top-color: var(--fill-color);\n",
              "    }\n",
              "    30% {\n",
              "      border-color: transparent;\n",
              "      border-left-color: var(--fill-color);\n",
              "      border-top-color: var(--fill-color);\n",
              "      border-right-color: var(--fill-color);\n",
              "    }\n",
              "    40% {\n",
              "      border-color: transparent;\n",
              "      border-right-color: var(--fill-color);\n",
              "      border-top-color: var(--fill-color);\n",
              "    }\n",
              "    60% {\n",
              "      border-color: transparent;\n",
              "      border-right-color: var(--fill-color);\n",
              "    }\n",
              "    80% {\n",
              "      border-color: transparent;\n",
              "      border-right-color: var(--fill-color);\n",
              "      border-bottom-color: var(--fill-color);\n",
              "    }\n",
              "    90% {\n",
              "      border-color: transparent;\n",
              "      border-bottom-color: var(--fill-color);\n",
              "    }\n",
              "  }\n",
              "</style>\n",
              "\n",
              "  <script>\n",
              "    async function quickchart(key) {\n",
              "      const quickchartButtonEl =\n",
              "        document.querySelector('#' + key + ' button');\n",
              "      quickchartButtonEl.disabled = true;  // To prevent multiple clicks.\n",
              "      quickchartButtonEl.classList.add('colab-df-spinner');\n",
              "      try {\n",
              "        const charts = await google.colab.kernel.invokeFunction(\n",
              "            'suggestCharts', [key], {});\n",
              "      } catch (error) {\n",
              "        console.error('Error during call to suggestCharts:', error);\n",
              "      }\n",
              "      quickchartButtonEl.classList.remove('colab-df-spinner');\n",
              "      quickchartButtonEl.classList.add('colab-df-quickchart-complete');\n",
              "    }\n",
              "    (() => {\n",
              "      let quickchartButtonEl =\n",
              "        document.querySelector('#df-e323a7e6-03bd-45e0-84a6-1b95dc27f030 button');\n",
              "      quickchartButtonEl.style.display =\n",
              "        google.colab.kernel.accessAllowed ? 'block' : 'none';\n",
              "    })();\n",
              "  </script>\n",
              "</div>\n",
              "    </div>\n",
              "  </div>\n"
            ]
          },
          "metadata": {},
          "execution_count": 154
        }
      ]
    },
    {
      "cell_type": "markdown",
      "source": [
        "### Checking If there are any Null values in the Data feeded ###"
      ],
      "metadata": {
        "id": "XawileNo8ZOM"
      }
    },
    {
      "cell_type": "code",
      "source": [
        "missing_values = data.isna().sum()\n",
        "print(\"Number of Values missing per column:\\n\", missing_values)"
      ],
      "metadata": {
        "colab": {
          "base_uri": "https://localhost:8080/"
        },
        "id": "WT48GPBv7hT5",
        "outputId": "2c0c0a84-5d69-4bc9-e705-5fddc79b98e5"
      },
      "execution_count": null,
      "outputs": [
        {
          "output_type": "stream",
          "name": "stdout",
          "text": [
            "Number of Values missing per column:\n",
            " isTest    0\n",
            "fea2      0\n",
            "fea3      0\n",
            "fea4      0\n",
            "fea5      0\n",
            "fea6      0\n",
            "fea7      0\n",
            "fea8      0\n",
            "fea9      0\n",
            "fea10     0\n",
            "fea11     0\n",
            "fea12     0\n",
            "fea13     0\n",
            "fea14     0\n",
            "fea15     0\n",
            "fea16     0\n",
            "fea17     0\n",
            "fea18     0\n",
            "fea19     0\n",
            "fea20     0\n",
            "fea21     0\n",
            "sid       0\n",
            "class     0\n",
            "dtype: int64\n"
          ]
        }
      ]
    },
    {
      "cell_type": "markdown",
      "source": [
        "### Extracting the Required Data ###"
      ],
      "metadata": {
        "id": "zxdWOdCzFb_Q"
      }
    },
    {
      "cell_type": "code",
      "source": [
        "# Extracting the Train Data and Test Data\n",
        "\n",
        "#Train data is extracted,The value of is test coloumn is 0\n",
        "train_data = data.query('isTest == 0')\n",
        "\n",
        "#Test data is extracted,The value of is test coloumn is 0\n",
        "test_data = data.query('isTest == 1')\n"
      ],
      "metadata": {
        "id": "rPvXINVs8hAC"
      },
      "execution_count": null,
      "outputs": []
    },
    {
      "cell_type": "code",
      "source": [
        "# Separating features and target variable\n",
        "X_train = train_data.drop(['isTest', 'sid', 'class'], axis=1)\n",
        "y_train = train_data['class']\n",
        "X_test = test_data.drop(['isTest', 'sid', 'class'], axis=1)\n",
        "y_test = test_data['class']"
      ],
      "metadata": {
        "id": "R5lhKuiA9nEk"
      },
      "execution_count": null,
      "outputs": []
    },
    {
      "cell_type": "markdown",
      "source": [
        "### Performing Standardization ###"
      ],
      "metadata": {
        "id": "ynVrJsdsFc7V"
      }
    },
    {
      "cell_type": "code",
      "source": [
        "#Scaling the values using Standard Scaler\n",
        "scaler = StandardScaler()\n",
        "\n",
        "# Fit the scaler on the training data and transform it\n",
        "X_train_scaled = scaler.fit_transform(X_train)\n",
        "# The fit_transform method computes the mean and standard deviation of each feature in X_train\n",
        "# and scales each feature by subtracting its mean and dividing by its standard deviation.\n",
        "# This transforms X_train into a standardized version.\n",
        "\n",
        "# Transform the test data using the same scaler\n",
        "X_test_scaled = scaler.transform(X_test)\n",
        "# The transform method applies the same mean and standard deviation obtained from the training data\n",
        "# to scale the test data. This ensures that the scaling is consistent between training and test datasets.\n"
      ],
      "metadata": {
        "id": "mYo6xyjnFdYr"
      },
      "execution_count": null,
      "outputs": []
    },
    {
      "cell_type": "markdown",
      "source": [
        "### Checking the Shape Of the Processed Data ####"
      ],
      "metadata": {
        "id": "ksZ53SJxHCm0"
      }
    },
    {
      "cell_type": "code",
      "source": [
        "# Print the shape (dimensions) of the scaled training features\n",
        "print(\"Training Features Shape:\", X_train_scaled.shape)\n",
        "\n",
        "# Print the shape (dimensions) of the scaled test features\n",
        "print(\"Test Features Shape:\", X_test_scaled.shape)\n",
        "\n",
        "# Print the shape (dimensions) of the training labels (target variable)\n",
        "print(\"Training Labels Shape:\", y_train.shape)\n",
        "\n",
        "# Print the shape (dimensions) of the test labels (target variable)\n",
        "print(\"Test Labels Shape:\", y_test.shape)\n"
      ],
      "metadata": {
        "colab": {
          "base_uri": "https://localhost:8080/"
        },
        "id": "FTpuNTnuGfKf",
        "outputId": "7f88e8ad-34a7-473c-bb40-f3a37e1bcc16"
      },
      "execution_count": null,
      "outputs": [
        {
          "output_type": "stream",
          "name": "stdout",
          "text": [
            "Training Features Shape: (9180, 20)\n",
            "Test Features Shape: (9180, 20)\n",
            "Training Labels Shape: (9180,)\n",
            "Test Labels Shape: (9180,)\n"
          ]
        }
      ]
    },
    {
      "cell_type": "markdown",
      "source": [
        "## Design Algorithm ##"
      ],
      "metadata": {
        "id": "bjf7GNBuHlMW"
      }
    },
    {
      "cell_type": "markdown",
      "source": [
        "### Importing the Necessary Libraries ###"
      ],
      "metadata": {
        "id": "euxkef8MH259"
      }
    },
    {
      "cell_type": "code",
      "source": [
        "# Import the KNeighborsClassifier class from scikit-learn, which is used for k-nearest neighbors classification\n",
        "from sklearn.neighbors import KNeighborsClassifier\n",
        "\n",
        "# Import the LogisticRegression class from scikit-learn, which is used for logistic regression classification\n",
        "from sklearn.linear_model import LogisticRegression\n",
        "\n",
        "# Import the classification_report and accuracy_score functions from scikit-learn metrics module\n",
        "# These functions are used for evaluating the performance of classification models\n",
        "from sklearn.metrics import classification_report, accuracy_score\n",
        "from sklearn.model_selection import StratifiedKFold, cross_val_score\n",
        "\n",
        "# Import the MLPClassifier from scikit-learn for neural network modeling.\n",
        "from sklearn.neural_network import MLPClassifier\n",
        "\n",
        "\n",
        "# Import RandomForestClassifier from scikit-learn for ensemble learning using random forests.\n",
        "from sklearn.ensemble import RandomForestClassifier\n",
        "\n"
      ],
      "metadata": {
        "id": "ATJeDICDHwT9"
      },
      "execution_count": null,
      "outputs": []
    },
    {
      "cell_type": "markdown",
      "source": [
        "### Creating a KNN, Logistic ,MLP ,Random Forest Classifiers###"
      ],
      "metadata": {
        "id": "1lcUXP1qIsHt"
      }
    },
    {
      "cell_type": "markdown",
      "source": [
        "### Creating a KNN Classifiers ###"
      ],
      "metadata": {
        "id": "1cZvR9butfMj"
      }
    },
    {
      "cell_type": "code",
      "source": [
        "# Create KNN classifier\n",
        "knn = KNeighborsClassifier(n_neighbors=3)\n",
        "\n",
        "# Define Stratified K-Fold cross-validator\n",
        "strat_kfold = StratifiedKFold(n_splits=5,shuffle=True, random_state=45)  # 5 folds"
      ],
      "metadata": {
        "id": "Dblx_mBWIAK8"
      },
      "execution_count": null,
      "outputs": []
    },
    {
      "cell_type": "markdown",
      "source": [
        "### Creating a Logistic Regression Classifier ###"
      ],
      "metadata": {
        "id": "gBZJUp0ktxjG"
      }
    },
    {
      "cell_type": "code",
      "source": [
        "# Create a Logistic Regression classifier\n",
        "log_reg = LogisticRegression(max_iter=1000, solver='saga')\n",
        "\n",
        "# Define Stratified K-Fold cross-validator\n",
        "strat_kfold1 = StratifiedKFold(n_splits=5, shuffle=True, random_state=45)  # 5 folds\n"
      ],
      "metadata": {
        "id": "Q5zoWuM2ty5u"
      },
      "execution_count": null,
      "outputs": []
    },
    {
      "cell_type": "markdown",
      "source": [
        "### Creating a MLP Classifier ###"
      ],
      "metadata": {
        "id": "LolZyAOSt6Ww"
      }
    },
    {
      "cell_type": "code",
      "source": [
        "# Create an MLPClassifier\n",
        "mlp = MLPClassifier(hidden_layer_sizes=(100,50), max_iter=1000,random_state=50)\n",
        "\n",
        "# Define Stratified K-Fold cross-validator\n",
        "strat_kfold2 = StratifiedKFold(n_splits=5,shuffle=True, random_state=45)  # 5 folds\n",
        "\n"
      ],
      "metadata": {
        "id": "b_iaDqH-t9SA"
      },
      "execution_count": null,
      "outputs": []
    },
    {
      "cell_type": "markdown",
      "source": [
        "### Creating a Random Forest Classifier ###"
      ],
      "metadata": {
        "id": "syOfeJgVR9-s"
      }
    },
    {
      "cell_type": "code",
      "source": [
        "# Create the Random Forest classifier\n",
        "random_forest = RandomForestClassifier(random_state=42)\n",
        "\n",
        "# Define Stratified K-Fold cross-validator\n",
        "strat_kfold3 = StratifiedKFold(n_splits=5,shuffle=True, random_state=45)  # 5 folds"
      ],
      "metadata": {
        "id": "V15hPCB9SJU2"
      },
      "execution_count": null,
      "outputs": []
    },
    {
      "cell_type": "markdown",
      "source": [
        "### Training the Classifiers ###"
      ],
      "metadata": {
        "id": "9ctsgT4bI44k"
      }
    },
    {
      "cell_type": "code",
      "source": [
        "# Train the k-nearest neighbors classifier (knn) using the scaled training data\n",
        "knn.fit(X_train_scaled, y_train)\n",
        "\n",
        "# Perform Stratified K-Fold Cross-Validation\n",
        "cross_val_scores = cross_val_score(knn, X_train_scaled, y_train, cv=strat_kfold)\n",
        "\n",
        "# Train the logistic regression classifier (log_reg) using the scaled training data\n",
        "log_reg.fit(X_train_scaled, y_train)\n",
        "\n",
        "# Perform Stratified K-Fold Cross-Validation for Logistic Regression\n",
        "cross_val_scores_log_reg = cross_val_score(log_reg, X_train_scaled, y_train, cv=strat_kfold1)\n",
        "\n",
        "# Train the MLP classifier  using the scaled training data\n",
        "mlp.fit(X_train_scaled, y_train)\n",
        "\n",
        "# Perform Stratified K-Fold Cross-Validation\n",
        "cross_val_scores_MLP = cross_val_score(mlp, X_train_scaled, y_train, cv=strat_kfold2)\n",
        "\n",
        "# Train the classifier on the scaled training data\n",
        "random_forest.fit(X_train_scaled, y_train)\n",
        "\n",
        "# Perform Stratified K-Fold Cross-Validation\n",
        "cross_val_scores_RFC = cross_val_score(random_forest, X_train_scaled, y_train, cv=strat_kfold3)\n"
      ],
      "metadata": {
        "id": "tbL-D0OXIynk"
      },
      "execution_count": null,
      "outputs": []
    },
    {
      "cell_type": "markdown",
      "source": [
        "### Predicting the Trained Data ###"
      ],
      "metadata": {
        "id": "nRKToSDUJqKW"
      }
    },
    {
      "cell_type": "code",
      "source": [
        "# Use the trained k-nearest neighbors model to make predictions on the scaled training data\n",
        "train_predictions = knn.predict(X_train_scaled)\n",
        "\n",
        "# Use the trained logistic regression model to make predictions on the scaled training data\n",
        "train_predictions_log_reg = log_reg.predict(X_train_scaled)\n",
        "\n",
        "# Use the trained MLP model to make predictions on the scaled training data\n",
        "mlp_predictions = mlp.predict(X_train_scaled)\n",
        "\n",
        "# Use the trained Random Forest model to make predictions on the scaled training data\n",
        "rf_predictions = random_forest.predict(X_train_scaled)"
      ],
      "metadata": {
        "id": "XK16WUdQJBQU"
      },
      "execution_count": null,
      "outputs": []
    },
    {
      "cell_type": "markdown",
      "source": [
        "### Evaluation of the Classifier ###"
      ],
      "metadata": {
        "id": "i2rTF6BqJ7Wj"
      }
    },
    {
      "cell_type": "code",
      "source": [
        "# Compute the accuracy of the k-nearest neighbors classifier on the training data\n",
        "accuracy = accuracy_score(y_train, train_predictions)\n",
        "\n",
        "# Generate a classification report for the k-nearest neighbors classifier on the training data\n",
        "classification_report_result = classification_report(y_train, train_predictions)\n",
        "\n",
        "# Compute the accuracy of the logistic regression classifier on the training data\n",
        "accuracy_log_reg = accuracy_score(y_train, train_predictions_log_reg)\n",
        "\n",
        "# Generate a classification report for the logistic regression classifier on the training data\n",
        "classification_report_log_reg = classification_report(y_train, train_predictions_log_reg)\n",
        "\n",
        "# Generate the accuracy of the MLP classifier on the Training data\n",
        "accuracy_mlp = accuracy_score(y_train, mlp_predictions)\n",
        "\n",
        "#Generate a classfication report for the MLP Classider on the training data\n",
        "classification_report_mlp = classification_report(y_train, mlp_predictions)\n",
        "\n",
        "# Generate the accuracy of the Random Forest classifier on the Training data\n",
        "accuracy_rfc=accuracy_score(y_train,rf_predictions)\n",
        "\n",
        "#Generate a classfication report for the Random Forest Classider on the training data\n",
        "classification_report_rfc=classification_report(y_train,rf_predictions)\n"
      ],
      "metadata": {
        "id": "Qqz0cuedKDQk"
      },
      "execution_count": null,
      "outputs": []
    },
    {
      "cell_type": "markdown",
      "source": [
        "### Model Performance on Training data ###"
      ],
      "metadata": {
        "id": "3mvG9HQ6KSkm"
      }
    },
    {
      "cell_type": "code",
      "source": [
        "# Output the results of the cross-validation\n",
        "print(\"K-Nearest Neighbors\\n\")\n",
        "\n",
        "# Print the training accuracy of the K-Nearest Neighbors classifier\n",
        "print(\"Training Accuracy :\", accuracy)\n",
        "\n",
        "# Print the classification report for the K-Nearest Neighbors classifier\n",
        "print(\"\\nClassification Report:\\n\", classification_report_result)\n",
        "\n",
        "print(f\"\\nAverage Stratified K-Fold Cross-Validation Scores: {cross_val_scores.mean()} \\n\")\n",
        "\n",
        "print(\"Logistic Regression :\\n\")\n",
        "\n",
        "# Print the training accuracy of the Logistic Regression classifier\n",
        "print(\"Training Accuracy :\", accuracy_log_reg)\n",
        "\n",
        "# Print the classification report for the Logistic Regression classifier\n",
        "print(f\"\\nClassification Report :\\n {classification_report_log_reg} \\n\")\n",
        "\n",
        "print(\"Average Stratified Cross-Validation Score (Logistic Regression):\", cross_val_scores_log_reg.mean())\n",
        "\n",
        "print(\"\\nMLP CLassifier :\\n\")\n",
        "\n",
        "#Print the Training accuracy of MLP Classifier\n",
        "print(\"Training Accuracy:\", accuracy_mlp)\n",
        "\n",
        "#Print the Classification report for the MLP CLassifier\n",
        "print(\"\\nClassification Report:\\n\", classification_report_mlp)\n",
        "\n",
        "print(f\"\\nAverage Stratified K-Fold Cross-Validation Scores: {cross_val_scores_MLP.mean()} \\n\")\n",
        "\n",
        "print(\"\\nRandom Forest Classifier : \\n\")\n",
        "\n",
        "#Print the Training accuracy of Random Forest Classifier\n",
        "print(\"Training Accuracy:\", accuracy_rfc)\n",
        "\n",
        "#Print the Classification report for the MLP CLassifier\n",
        "print(\"\\nClassification Report:\\n\", classification_report_rfc)\n",
        "\n",
        "print(f\"\\nAverage Stratified K-Fold Cross-Validation Scores: {cross_val_scores_RFC.mean()} \\n\")\n"
      ],
      "metadata": {
        "colab": {
          "base_uri": "https://localhost:8080/"
        },
        "id": "lkqHwyXoKHbR",
        "outputId": "5005b93a-78f9-424b-cd94-9bd944ada1ed"
      },
      "execution_count": null,
      "outputs": [
        {
          "output_type": "stream",
          "name": "stdout",
          "text": [
            "K-Nearest Neighbors\n",
            "\n",
            "Training Accuracy : 0.9888888888888889\n",
            "\n",
            "Classification Report:\n",
            "               precision    recall  f1-score   support\n",
            "\n",
            "           0       0.97      1.00      0.98      1530\n",
            "           1       1.00      0.93      0.97      1530\n",
            "           2       0.97      1.00      0.98      1530\n",
            "           3       1.00      1.00      1.00      1530\n",
            "           4       1.00      1.00      1.00      1530\n",
            "           5       1.00      1.00      1.00      1530\n",
            "\n",
            "    accuracy                           0.99      9180\n",
            "   macro avg       0.99      0.99      0.99      9180\n",
            "weighted avg       0.99      0.99      0.99      9180\n",
            "\n",
            "\n",
            "Average Stratified K-Fold Cross-Validation Scores: 0.9888888888888889 \n",
            "\n",
            "Logistic Regression :\n",
            "\n",
            "Training Accuracy : 0.7611111111111111\n",
            "\n",
            "Classification Report :\n",
            "               precision    recall  f1-score   support\n",
            "\n",
            "           0       0.93      0.90      0.92      1530\n",
            "           1       0.54      0.63      0.58      1530\n",
            "           2       0.62      0.53      0.57      1530\n",
            "           3       0.73      0.80      0.76      1530\n",
            "           4       0.78      0.70      0.74      1530\n",
            "           5       1.00      1.00      1.00      1530\n",
            "\n",
            "    accuracy                           0.76      9180\n",
            "   macro avg       0.77      0.76      0.76      9180\n",
            "weighted avg       0.77      0.76      0.76      9180\n",
            " \n",
            "\n",
            "Average Stratified Cross-Validation Score (Logistic Regression): 0.7571895424836602\n",
            "\n",
            "MLP CLassifier :\n",
            "\n",
            "Training Accuracy: 0.9777777777777777\n",
            "\n",
            "Classification Report:\n",
            "               precision    recall  f1-score   support\n",
            "\n",
            "           0       1.00      0.97      0.98      1530\n",
            "           1       0.93      0.93      0.93      1530\n",
            "           2       0.94      0.97      0.95      1530\n",
            "           3       1.00      1.00      1.00      1530\n",
            "           4       1.00      1.00      1.00      1530\n",
            "           5       1.00      1.00      1.00      1530\n",
            "\n",
            "    accuracy                           0.98      9180\n",
            "   macro avg       0.98      0.98      0.98      9180\n",
            "weighted avg       0.98      0.98      0.98      9180\n",
            "\n",
            "\n",
            "Average Stratified K-Fold Cross-Validation Scores: 0.9881263616557735 \n",
            "\n",
            "\n",
            "Random Forest Classifier : \n",
            "\n",
            "Training Accuracy: 0.9888888888888889\n",
            "\n",
            "Classification Report:\n",
            "               precision    recall  f1-score   support\n",
            "\n",
            "           0       1.00      0.97      0.98      1530\n",
            "           1       0.97      0.97      0.97      1530\n",
            "           2       0.97      1.00      0.98      1530\n",
            "           3       1.00      1.00      1.00      1530\n",
            "           4       1.00      1.00      1.00      1530\n",
            "           5       1.00      1.00      1.00      1530\n",
            "\n",
            "    accuracy                           0.99      9180\n",
            "   macro avg       0.99      0.99      0.99      9180\n",
            "weighted avg       0.99      0.99      0.99      9180\n",
            "\n",
            "\n",
            "Average Stratified K-Fold Cross-Validation Scores: 0.9886710239651416 \n",
            "\n"
          ]
        }
      ]
    },
    {
      "cell_type": "markdown",
      "source": [
        "## Model evaluation ##"
      ],
      "metadata": {
        "id": "ZsaggZ61LNwb"
      }
    },
    {
      "cell_type": "markdown",
      "source": [
        "### Importing the Necessary Libraries ###"
      ],
      "metadata": {
        "id": "fSsYQetILXhU"
      }
    },
    {
      "cell_type": "code",
      "source": [
        "# Import the accuracy_score function from scikit-learn metrics module\n",
        "from sklearn.metrics import accuracy_score\n",
        "\n",
        "# Import the classification_report function from scikit-learn metrics module\n",
        "from sklearn.metrics import classification_report\n",
        "\n",
        "# Import the confusion_matrix function from scikit-learn metrics module\n",
        "from sklearn.metrics import confusion_matrix\n",
        "\n",
        "\n",
        "from sklearn.neighbors import KNeighborsClassifier\n",
        "\n",
        "from sklearn.neural_network import MLPClassifier\n"
      ],
      "metadata": {
        "id": "Xad1osy7LTN1"
      },
      "execution_count": null,
      "outputs": []
    },
    {
      "cell_type": "markdown",
      "source": [
        "### Make predictions and Evaluation of Classifiers on the Test Data ###"
      ],
      "metadata": {
        "id": "fj1-5FUhLk6N"
      }
    },
    {
      "cell_type": "code",
      "source": [
        "# Use the trained KNN model to make predictions on the scaled test data\n",
        "knn_predictions = knn.predict(X_test_scaled)\n",
        "\n",
        "# Compute the accuracy of the KNN classifier on the test data\n",
        "accuracy_knn = accuracy_score(y_test, knn_predictions)\n",
        "\n",
        "# Generate a classification report for the KNN classifier on the test data\n",
        "classification_report_knn = classification_report(y_test, knn_predictions)\n",
        "\n",
        "# Calculate the confusion matrix for the KNN classifier's predictions on the test data\n",
        "confusion_matrix_knn = confusion_matrix(y_test, knn_predictions)\n"
      ],
      "metadata": {
        "id": "h9L3C9CcLezm"
      },
      "execution_count": null,
      "outputs": []
    },
    {
      "cell_type": "code",
      "source": [
        "# Use the trained Logistic Regression model to make predictions on the scaled test data\n",
        "log_reg_predictions = log_reg.predict(X_test_scaled)\n",
        "\n",
        "# Compute the accuracy of the Logistic Regression classifier on the test data\n",
        "accuracy_log_reg = accuracy_score(y_test, log_reg_predictions)\n",
        "\n",
        "# Generate a classification report for the Logistic Regression classifier on the test data\n",
        "classification_report_log_reg = classification_report(y_test, log_reg_predictions)\n",
        "\n",
        "# Calculate the confusion matrix for the Logistic Regression classifier's predictions on the test data\n",
        "confusion_matrix_log_reg = confusion_matrix(y_test, log_reg_predictions)\n"
      ],
      "metadata": {
        "id": "-yBnruMKMY48"
      },
      "execution_count": null,
      "outputs": []
    },
    {
      "cell_type": "code",
      "source": [
        "#Use the Trained MLP model to make predictions on the scaled test data\n",
        "mlp_predictions_test=mlp.predict(X_test_scaled)\n",
        "\n",
        "#Compute the accuracy of the MLP classifier on the test data\n",
        "accuracy_mlp_test = accuracy_score(y_test, mlp_predictions_test)\n",
        "\n",
        "# Generate a classification report for the MLP classifier on the test data\n",
        "classification_report_mlp_test = classification_report(y_test, mlp_predictions_test)\n",
        "\n",
        "# Calculate the confusion matrix for the MLP classifier's predictions on the test data\n",
        "confusion_matrix_mlp_test = confusion_matrix(y_test, mlp_predictions_test)\n"
      ],
      "metadata": {
        "id": "OfAyfVFov7HC"
      },
      "execution_count": null,
      "outputs": []
    },
    {
      "cell_type": "code",
      "source": [
        "#Use the Trained RFC model to make predictions on the scaled test data\n",
        "rfc_predictions_test=random_forest.predict(X_test_scaled)\n",
        "\n",
        "#Compute the accuracy of the RFC classifier on the test data\n",
        "accuracy_rfc_test = accuracy_score(y_test, rfc_predictions_test)\n",
        "\n",
        "# Generate a classification report for the RFC classifier on the test data\n",
        "classification_report_rfc_test = classification_report(y_test, rfc_predictions_test)\n",
        "\n",
        "# Calculate the confusion matrix for the RFC classifier's predictions on the test data\n",
        "confusion_matrix_rfc_test = confusion_matrix(y_test, rfc_predictions_test)"
      ],
      "metadata": {
        "id": "IGtfRLzmZnk7"
      },
      "execution_count": null,
      "outputs": []
    },
    {
      "cell_type": "markdown",
      "source": [
        "### Model Performance on Test Data ###"
      ],
      "metadata": {
        "id": "6p4W52FJLvXk"
      }
    },
    {
      "cell_type": "code",
      "source": [
        "# Print the test accuracy of the KNN classifier\n",
        "print(\"KNN Test Accuracy:\", accuracy_knn)\n",
        "\n",
        "# Print the classification report for the KNN classifier on the test data\n",
        "print(\"\\nKNN Classification Report:\\n\", classification_report_knn)\n",
        "\n",
        "# Print the confusion matrix for the KNN classifier's predictions on the test data\n",
        "print(\"\\nKNN Confusion Matrix:\\n\", confusion_matrix_knn)\n"
      ],
      "metadata": {
        "colab": {
          "base_uri": "https://localhost:8080/"
        },
        "id": "QMwX0kiUL4ps",
        "outputId": "069e467d-6d5e-482c-a9f0-809915a3a61b"
      },
      "execution_count": null,
      "outputs": [
        {
          "output_type": "stream",
          "name": "stdout",
          "text": [
            "KNN Test Accuracy: 0.6\n",
            "\n",
            "KNN Classification Report:\n",
            "               precision    recall  f1-score   support\n",
            "\n",
            "           0       0.83      0.63      0.72      1530\n",
            "           1       0.39      0.47      0.42      1530\n",
            "           2       0.41      0.47      0.44      1530\n",
            "           3       0.59      0.53      0.56      1530\n",
            "           4       0.53      0.57      0.55      1530\n",
            "           5       1.00      0.93      0.97      1530\n",
            "\n",
            "    accuracy                           0.60      9180\n",
            "   macro avg       0.63      0.60      0.61      9180\n",
            "weighted avg       0.63      0.60      0.61      9180\n",
            "\n",
            "\n",
            "KNN Confusion Matrix:\n",
            " [[ 969  408  153    0    0    0]\n",
            " [ 102  714  714    0    0    0]\n",
            " [ 102  714  714    0    0    0]\n",
            " [   0    0   51  816  663    0]\n",
            " [   0    0  102  561  867    0]\n",
            " [   0    0    0    0  102 1428]]\n"
          ]
        }
      ]
    },
    {
      "cell_type": "code",
      "source": [
        "# Print the test accuracy of the Logistic Regression classifier\n",
        "print(\"\\nLogistic Regression Test Accuracy:\", accuracy_log_reg)\n",
        "\n",
        "# Print the classification report for the Logistic Regression classifier on the test data\n",
        "print(\"\\nLogistic Regression Classification Report:\\n\", classification_report_log_reg)\n",
        "\n",
        "# Print the confusion matrix for the Logistic Regression classifier's predictions on the test data\n",
        "print(\"\\nLogistic Regression Confusion Matrix:\\n\", confusion_matrix_log_reg)\n"
      ],
      "metadata": {
        "colab": {
          "base_uri": "https://localhost:8080/"
        },
        "id": "i2R-5ShRMV0y",
        "outputId": "c51b4513-284d-4e95-f87b-76af611857e5"
      },
      "execution_count": null,
      "outputs": [
        {
          "output_type": "stream",
          "name": "stdout",
          "text": [
            "\n",
            "Logistic Regression Test Accuracy: 0.6666666666666666\n",
            "\n",
            "Logistic Regression Classification Report:\n",
            "               precision    recall  f1-score   support\n",
            "\n",
            "           0       0.89      0.80      0.84      1530\n",
            "           1       0.47      0.63      0.54      1530\n",
            "           2       0.48      0.33      0.39      1530\n",
            "           3       0.57      0.67      0.62      1530\n",
            "           4       0.63      0.57      0.60      1530\n",
            "           5       1.00      1.00      1.00      1530\n",
            "\n",
            "    accuracy                           0.67      9180\n",
            "   macro avg       0.67      0.67      0.66      9180\n",
            "weighted avg       0.67      0.67      0.66      9180\n",
            "\n",
            "\n",
            "Logistic Regression Confusion Matrix:\n",
            " [[1224  204  102    0    0    0]\n",
            " [  51  969  459   51    0    0]\n",
            " [ 102  867  510   51    0    0]\n",
            " [   0    0    0 1020  510    0]\n",
            " [   0    0    0  663  867    0]\n",
            " [   0    0    0    0    0 1530]]\n"
          ]
        }
      ]
    },
    {
      "cell_type": "code",
      "source": [
        "# Print the test accuracy of the MLP classifier\n",
        "print(\"\\nMLP Test Accuracy:\", accuracy_mlp_test)\n",
        "\n",
        "# Print the classification report for the MLP classifier on the test data\n",
        "print(\"\\nMLP Classification Report:\\n\", classification_report_mlp_test)\n",
        "\n",
        "# Print the confusion matrix for the MLP classifier's predictions on the test data\n",
        "print(\"\\nMLP Confusion Matrix:\\n\", confusion_matrix_mlp_test)\n"
      ],
      "metadata": {
        "colab": {
          "base_uri": "https://localhost:8080/"
        },
        "id": "5F92kcvs1oSd",
        "outputId": "aed283b7-9fcb-44c0-afb4-ab929c2307aa"
      },
      "execution_count": null,
      "outputs": [
        {
          "output_type": "stream",
          "name": "stdout",
          "text": [
            "\n",
            "MLP Test Accuracy: 0.6444444444444445\n",
            "\n",
            "MLP Classification Report:\n",
            "               precision    recall  f1-score   support\n",
            "\n",
            "           0       0.88      0.50      0.64      1530\n",
            "           1       0.43      0.63      0.51      1530\n",
            "           2       0.52      0.47      0.49      1530\n",
            "           3       0.66      0.63      0.64      1530\n",
            "           4       0.62      0.67      0.65      1530\n",
            "           5       0.94      0.97      0.95      1530\n",
            "\n",
            "    accuracy                           0.64      9180\n",
            "   macro avg       0.67      0.64      0.65      9180\n",
            "weighted avg       0.67      0.64      0.65      9180\n",
            "\n",
            "\n",
            "MLP Confusion Matrix:\n",
            " [[ 765  561  102    0  102    0]\n",
            " [  51  969  510    0    0    0]\n",
            " [  51  663  714    0    0  102]\n",
            " [   0   51    0  969  510    0]\n",
            " [   0    0    0  510 1020    0]\n",
            " [   0    0   51    0    0 1479]]\n"
          ]
        }
      ]
    },
    {
      "cell_type": "code",
      "source": [
        "# Print the test accuracy of the Random Forest classifier\n",
        "print(\"\\nRandom Forest Test Accuracy:\", accuracy_rfc_test)\n",
        "\n",
        "# Print the classification report for the Random Forest classifier on the test data\n",
        "print(\"\\nRandom Forest Classification Report:\\n\", classification_report_rfc_test)\n",
        "\n",
        "# Print the confusion matrix for the Random Forest classifier's predictions on the test data\n",
        "print(\"\\nRFC Confusion Matrix:\\n\", confusion_matrix_rfc_test)"
      ],
      "metadata": {
        "colab": {
          "base_uri": "https://localhost:8080/"
        },
        "id": "5tzdwlpPaPoI",
        "outputId": "dc5849c7-3706-446b-cbec-51bf159bf04f"
      },
      "execution_count": null,
      "outputs": [
        {
          "output_type": "stream",
          "name": "stdout",
          "text": [
            "\n",
            "Random Forest Test Accuracy: 0.6555555555555556\n",
            "\n",
            "Random Forest Classification Report:\n",
            "               precision    recall  f1-score   support\n",
            "\n",
            "           0       0.80      0.80      0.80      1530\n",
            "           1       0.42      0.50      0.45      1530\n",
            "           2       0.50      0.40      0.44      1530\n",
            "           3       0.62      0.60      0.61      1530\n",
            "           4       0.61      0.63      0.62      1530\n",
            "           5       1.00      1.00      1.00      1530\n",
            "\n",
            "    accuracy                           0.66      9180\n",
            "   macro avg       0.66      0.66      0.66      9180\n",
            "weighted avg       0.66      0.66      0.66      9180\n",
            "\n",
            "\n",
            "RFC Confusion Matrix:\n",
            " [[1224  255   51    0    0    0]\n",
            " [ 204  765  561    0    0    0]\n",
            " [ 102  816  612    0    0    0]\n",
            " [   0    0    0  918  612    0]\n",
            " [   0    0    0  561  969    0]\n",
            " [   0    0    0    0    0 1530]]\n"
          ]
        }
      ]
    },
    {
      "cell_type": "markdown",
      "source": [
        "## **Final Analysis** ##"
      ],
      "metadata": {
        "id": "24RpKl14NuYq"
      }
    },
    {
      "cell_type": "markdown",
      "source": [
        "Based on the provided test accuracy, classification reports, and confusion matrices for the K-Nearest Neighbors (KNN), Logistic Regression, Multi-Layer Perceptron (MLP), and Random Forest Classifier (RFC) models, here's a detailed analysis and comparison of their performances:\n",
        "\n",
        " **K-Nearest Neighbors (KNN)**\n",
        "\n",
        "- **Test Accuracy:** 60%\n",
        "- **Precision & Recall:**\n",
        "  - High precision (100%) for class 5 but low for classes 1 and 2 (around 39-41%).\n",
        "  - High recall for class 5 (93%) but lower for class 0 (63%).\n",
        "- **F1-Score:**\n",
        "  - Excellent for class 5 (0.97), indicating strong performance.\n",
        "  - Lower F1-scores for classes 1 and 2 (around 0.42-0.44).\n",
        "- **Confusion Matrix Observations:**\n",
        "  - Noticeable misclassification between classes 1 and 2.\n",
        "  - Class 5 is very well identified with minimal errors.\n",
        "\n",
        "**Logistic Regression**\n",
        "\n",
        "- **Test Accuracy:** 66.67%\n",
        "- **Precision & Recall:**\n",
        "  - High precision for class 0 (89%) and class 5 (100%), but lower for classes 1 and 2.\n",
        "  - High recall for class 5 (100%) and good for class 3 (67%).\n",
        "- **F1-Score:**\n",
        "  - Excellent for class 5 (1.00), demonstrating outstanding performance.\n",
        "  - Lower scores for classes 1 and 2, indicating weaker performance.\n",
        "- **Confusion Matrix Observations:**\n",
        "  - Some confusion between classes 1 and 2.\n",
        "  - Class 5 is perfectly classified, indicating clear feature distinction.\n",
        "\n",
        "**Multi-Layer Perceptron (MLP)**\n",
        "\n",
        "- **Test Accuracy:** 64.44%\n",
        "- **Precision & Recall:**\n",
        "  - High precision for class 5 (94%) but lower for class 1 (43%).\n",
        "  - High recall for class 5 (97%), but lower for class 0 (50%).\n",
        "- **F1-Score:**\n",
        "  - Excellent for class 5 (0.95), showing very strong performance.\n",
        "  - Lower for class 0 (0.64), indicating room for improvement.\n",
        "- **Confusion Matrix Observations:**\n",
        "  - Class 0 frequently misclassified as class 1.\n",
        "  - Class 5 is accurately identified with very few errors.\n",
        "\n",
        "**Random Forest Classifier (RFC)**\n",
        "\n",
        "- **Test Accuracy:** 65.56%\n",
        "- **Precision & Recall:**\n",
        "  - Good precision for class 0 (80%) and excellent for class 5 (100%).\n",
        "  - Recall is also strong for class 5 (100%), but moderate for others.\n",
        "- **F1-Score:**\n",
        "  - High for class 5 (1.00), indicating exceptional performance.\n",
        "  - Moderate for other classes, with some variation.\n",
        "- **Confusion Matrix Observations:**\n",
        "  - Some misclassifications between classes 1, 2, and 3.\n",
        "  - Class 5 is perfectly predicted.\n",
        "\n",
        "**Overall Evaluation**\n",
        "\n",
        "- **Best Overall Performer:** Logistic Regression stands out with the highest overall accuracy and a balanced performance across most classes, particularly excelling in class 5.\n",
        "- **Class 5 Prediction:** All models perform exceptionally well in predicting class 5, suggesting distinct and clear features for this class.\n",
        "- **Challenges with Classes 1 and 2:** All models show difficulties in accurately predicting classes 1 and 2, indicating possible overlapping features or insufficient differentiation.\n",
        "- **Model Selection Considerations:**\n",
        "  - If predicting class 5 accurately is a priority, Logistic Regression and MLP are strong choices.\n",
        "  - For a balanced performance across various classes, Logistic Regression appears most consistent.\n",
        "  - KNN, despite its lower overall accuracy, might still offer valuable insights, particularly in multi-model ensembles.\n",
        "\n",
        "In conclusion, Logistic Regression seems to be the most suitable model considering its overall accuracy and balanced class performance. However, the choice should also be influenced by the specific requirements of your application, such as the importance of accurately predicting certain classes or the need for a balance across all classes."
      ],
      "metadata": {
        "id": "H6hhnt28NnrQ"
      }
    },
    {
      "cell_type": "code",
      "source": [],
      "metadata": {
        "id": "3FXgeT7Icscs"
      },
      "execution_count": null,
      "outputs": []
    }
  ]
}